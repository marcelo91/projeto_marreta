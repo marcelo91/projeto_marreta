for lista in df_final['Ratings']:
    for cont in lista:
        df_final['Rating_source_'] = cont['Source']
        df_final['Rating_value_'] = cont['Value']
        i += 1
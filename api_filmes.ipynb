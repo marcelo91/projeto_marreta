{
 "cells": [
  {
   "cell_type": "code",
   "execution_count": 53,
   "id": "76d1601c",
   "metadata": {},
   "outputs": [],
   "source": [
    "import pandas as pd\n",
    "import json\n",
    "\n",
    "# open file\n",
    "with open('data/amostra.json', 'r')as file:\n",
    "    \n",
    "    # load as dataframe using json_normalize method\n",
    "    df_lines = file.readlines()\n",
    "    #df = pd.json_normalize(json.load(df_read))\n",
    "\n",
    "for df_line in df_lines:\n",
    "    df = pd.json_normalize(json.loads(df_line))\n",
    "    break\n",
    "    \n",
    "# set the index to employee id\n",
    "#df.set_index(['id'], inplace=True)\n",
    "\n",
    "# print first 5 records\n",
    "#print(df_read)"
   ]
  },
  {
   "cell_type": "code",
   "execution_count": 54,
   "id": "77e2c76d",
   "metadata": {},
   "outputs": [],
   "source": [
    "i = 1\n",
    "\n",
    "for lista in df['Ratings']:\n",
    "    for cont in lista:\n",
    "        #print(cont['Source'])\n",
    "        df['Rating_source_'+str(i)] = cont['Source']\n",
    "        df['Rating_value_'+str(i)] = cont['Value']\n",
    "        i += 1\n",
    "        #break\n",
    "\n",
    "       \n",
    "    "
   ]
  },
  {
   "cell_type": "code",
   "execution_count": 55,
   "id": "68796aeb",
   "metadata": {},
   "outputs": [
    {
     "name": "stdout",
     "output_type": "stream",
     "text": [
      "                      Title  Year Rated     Released  Runtime  Genre  \\\n",
      "0  The Shawshank Redemption  1994     R  14 Oct 1994  142 min  Drama   \n",
      "\n",
      "         Director                        Writer  \\\n",
      "0  Frank Darabont  Stephen King, Frank Darabont   \n",
      "\n",
      "                                    Actors  \\\n",
      "0  Tim Robbins, Morgan Freeman, Bob Gunton   \n",
      "\n",
      "                                                Plot  ...    BoxOffice  \\\n",
      "0  Over the course of several years, two convicts...  ...  $28,767,189   \n",
      "\n",
      "  Production Website Response          Rating_source_1 Rating_value_1  \\\n",
      "0        N/A     N/A     True  Internet Movie Database         9.3/10   \n",
      "\n",
      "   Rating_source_2 Rating_value_2 Rating_source_3 Rating_value_3  \n",
      "0  Rotten Tomatoes            91%      Metacritic         82/100  \n",
      "\n",
      "[1 rows x 31 columns]\n"
     ]
    }
   ],
   "source": [
    "print(df) "
   ]
  }
 ],
 "metadata": {
  "kernelspec": {
   "display_name": "Python 3 (ipykernel)",
   "language": "python",
   "name": "python3"
  },
  "language_info": {
   "codemirror_mode": {
    "name": "ipython",
    "version": 3
   },
   "file_extension": ".py",
   "mimetype": "text/x-python",
   "name": "python",
   "nbconvert_exporter": "python",
   "pygments_lexer": "ipython3",
   "version": "3.9.7"
  }
 },
 "nbformat": 4,
 "nbformat_minor": 5
}

{
 "cells": [
  {
   "cell_type": "code",
   "execution_count": 1,
   "id": "76d1601c",
   "metadata": {},
   "outputs": [
    {
     "data": {
      "text/html": [
       "<div>\n",
       "<style scoped>\n",
       "    .dataframe tbody tr th:only-of-type {\n",
       "        vertical-align: middle;\n",
       "    }\n",
       "\n",
       "    .dataframe tbody tr th {\n",
       "        vertical-align: top;\n",
       "    }\n",
       "\n",
       "    .dataframe thead th {\n",
       "        text-align: right;\n",
       "    }\n",
       "</style>\n",
       "<table border=\"1\" class=\"dataframe\">\n",
       "  <thead>\n",
       "    <tr style=\"text-align: right;\">\n",
       "      <th></th>\n",
       "    </tr>\n",
       "  </thead>\n",
       "  <tbody>\n",
       "  </tbody>\n",
       "</table>\n",
       "</div>"
      ],
      "text/plain": [
       "Empty DataFrame\n",
       "Columns: []\n",
       "Index: []"
      ]
     },
     "metadata": {},
     "output_type": "display_data"
    }
   ],
   "source": [
    "import pandas as pd\n",
    "import json\n",
    "\n",
    "dataframe = []\n",
    "\n",
    "\n",
    "def trataJson(df_lines):\n",
    "\n",
    "    # passando uma linha por vez\n",
    "    for df_line in df_lines:\n",
    "        df = json.loads(df_line)\n",
    "        i = 1\n",
    "\n",
    "        if isinstance(df['Ratings'], list):\n",
    "            for df_rating in df['Ratings']:\n",
    "                source_concat = 'Rating_source'+str(i)\n",
    "                value_concat = 'Rating_value'+str(i)\n",
    "                df[source_concat] = df_rating['Source']\n",
    "                df[value_concat] = df_rating['Value']\n",
    "                i += 1\n",
    "            \n",
    "        else:\n",
    "            df['Rating_source_1'] = df_rating['Source']\n",
    "            df['Rating_value_1'] = df_rating['Value']\n",
    "            \n",
    "            df.pop('Ratings')\n",
    "            dataframe.append(df)\n",
    "\n",
    "    df_final = pd.DataFrame(dataframe)\n",
    "    return display(df_final)\n",
    "\n",
    "# open file\n",
    "with open('data/movie_data.json', 'r')as file:\n",
    "    \n",
    "    # lendo todas as linhas do aquivos\n",
    "    trataJson(file.readlines())"
   ]
  },
  {
   "cell_type": "code",
   "execution_count": 2,
   "id": "9508fcd3-6abd-4552-ba15-1cf04d4239dc",
   "metadata": {},
   "outputs": [
    {
     "ename": "SyntaxError",
     "evalue": "invalid syntax (4022262413.py, line 1)",
     "output_type": "error",
     "traceback": [
      "\u001b[0;36m  Input \u001b[0;32mIn [2]\u001b[0;36m\u001b[0m\n\u001b[0;31m    python -m database.config\u001b[0m\n\u001b[0m              ^\u001b[0m\n\u001b[0;31mSyntaxError\u001b[0m\u001b[0;31m:\u001b[0m invalid syntax\n"
     ]
    }
   ],
   "source": []
  },
  {
   "cell_type": "code",
   "execution_count": null,
   "id": "89818f0c-df5f-4902-87ad-fc89e812ba77",
   "metadata": {},
   "outputs": [],
   "source": []
  }
 ],
 "metadata": {
  "kernelspec": {
   "display_name": "Python 3 (ipykernel)",
   "language": "python",
   "name": "python3"
  },
  "language_info": {
   "codemirror_mode": {
    "name": "ipython",
    "version": 3
   },
   "file_extension": ".py",
   "mimetype": "text/x-python",
   "name": "python",
   "nbconvert_exporter": "python",
   "pygments_lexer": "ipython3",
   "version": "3.9.12"
  }
 },
 "nbformat": 4,
 "nbformat_minor": 5
}

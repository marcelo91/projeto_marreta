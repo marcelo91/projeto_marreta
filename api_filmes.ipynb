{
 "cells": [
  {
   "cell_type": "code",
   "execution_count": 15,
   "id": "76d1601c",
   "metadata": {},
   "outputs": [
    {
     "name": "stdout",
     "output_type": "stream",
     "text": [
      "dict_keys(['Title', 'Year', 'Rated', 'Released', 'Runtime', 'Genre', 'Director', 'Writer', 'Actors', 'Plot', 'Language', 'Country', 'Awards', 'Poster', 'Ratings', 'Metascore', 'imdbRating', 'imdbVotes', 'imdbID', 'Type', 'DVD', 'BoxOffice', 'Production', 'Website', 'Response'])\n"
     ]
    },
    {
     "ename": "AttributeError",
     "evalue": "'list' object has no attribute 'loc'",
     "output_type": "error",
     "traceback": [
      "\u001b[1;31m---------------------------------------------------------------------------\u001b[0m",
      "\u001b[1;31mAttributeError\u001b[0m                            Traceback (most recent call last)",
      "Cell \u001b[1;32mIn[15], line 29\u001b[0m\n\u001b[0;32m     27\u001b[0m         df[value_concat] \u001b[39m=\u001b[39m df_rating[\u001b[39m'\u001b[39m\u001b[39mValue\u001b[39m\u001b[39m'\u001b[39m]\n\u001b[0;32m     28\u001b[0m         i \u001b[39m+\u001b[39m\u001b[39m=\u001b[39m \u001b[39m1\u001b[39m\n\u001b[1;32m---> 29\u001b[0m     dataframe\u001b[39m.\u001b[39;49mloc[\u001b[39mlen\u001b[39m(dataframe)] \u001b[39m=\u001b[39m df\n\u001b[0;32m     30\u001b[0m \u001b[39melse\u001b[39;00m:\n\u001b[0;32m     31\u001b[0m     df[\u001b[39m'\u001b[39m\u001b[39mRating_source_1\u001b[39m\u001b[39m'\u001b[39m] \u001b[39m=\u001b[39m df_rating[\u001b[39m'\u001b[39m\u001b[39mSource\u001b[39m\u001b[39m'\u001b[39m]\n",
      "\u001b[1;31mAttributeError\u001b[0m: 'list' object has no attribute 'loc'"
     ]
    }
   ],
   "source": [
    "#comentario ctrl + k ctrl + c\n",
    "#retirar comentario ctrl + k ctrl + u\n",
    "\n",
    "import pandas as pd\n",
    "import json\n",
    "\n",
    "dataframe = []\n",
    "\n",
    "# open file\n",
    "with open('data/amostra.json', 'r')as file:\n",
    "    \n",
    "    # load as dataframe using json_normalize method\n",
    "    df_lines = file.readlines()\n",
    "    #df = pd.json_normalize(json.load(df_read))\n",
    "\n",
    "for df_line in df_lines:\n",
    "    #df = pd.json_normalize(json.loads(df_line))\n",
    "    df = json.loads(df_line)\n",
    "    i = 1\n",
    "    print(df.keys())\n",
    "\n",
    "    if isinstance(df['Ratings'],list):\n",
    "        for df_rating in df['Ratings']:\n",
    "            source_concat = 'Rating_source_'+str(i)\n",
    "            value_concat = 'Rating_value_'+str(i)\n",
    "            df[source_concat] = df_rating['Source']\n",
    "            df[value_concat] = df_rating['Value']\n",
    "            i += 1\n",
    "        dataframe.loc[len(dataframe)] = df\n",
    "    else:\n",
    "        df['Rating_source_1'] = df_rating['Source']\n",
    "        df['Rating_value_1'] = df_rating['Value']\n",
    "        dataframe.loc[len(dataframe)] = df\n",
    "    "
   ]
  },
  {
   "cell_type": "code",
   "execution_count": 28,
   "metadata": {},
   "outputs": [
    {
     "name": "stdout",
     "output_type": "stream",
     "text": [
      "<class 'list'>\n"
     ]
    }
   ],
   "source": [
    "print(type(dataframe))"
   ]
  },
  {
   "cell_type": "code",
   "execution_count": 45,
   "id": "77e2c76d",
   "metadata": {},
   "outputs": [
    {
     "ename": "TypeError",
     "evalue": "string indices must be integers",
     "output_type": "error",
     "traceback": [
      "\u001b[1;31m---------------------------------------------------------------------------\u001b[0m",
      "\u001b[1;31mTypeError\u001b[0m                                 Traceback (most recent call last)",
      "Cell \u001b[1;32mIn[45], line 6\u001b[0m\n\u001b[0;32m      3\u001b[0m \u001b[39mfor\u001b[39;00m lista \u001b[39min\u001b[39;00m df[\u001b[39m'\u001b[39m\u001b[39mRatings\u001b[39m\u001b[39m'\u001b[39m]:\n\u001b[0;32m      4\u001b[0m     \u001b[39mfor\u001b[39;00m cont \u001b[39min\u001b[39;00m lista:\n\u001b[0;32m      5\u001b[0m         \u001b[39m#print(cont['Source'])\u001b[39;00m\n\u001b[1;32m----> 6\u001b[0m         df[\u001b[39m'\u001b[39m\u001b[39mRating_source_\u001b[39m\u001b[39m'\u001b[39m\u001b[39m+\u001b[39m\u001b[39mstr\u001b[39m(i)] \u001b[39m=\u001b[39m cont[\u001b[39m'\u001b[39;49m\u001b[39mSource\u001b[39;49m\u001b[39m'\u001b[39;49m]\n\u001b[0;32m      7\u001b[0m         df[\u001b[39m'\u001b[39m\u001b[39mRating_value_\u001b[39m\u001b[39m'\u001b[39m\u001b[39m+\u001b[39m\u001b[39mstr\u001b[39m(i)] \u001b[39m=\u001b[39m cont[\u001b[39m'\u001b[39m\u001b[39mValue\u001b[39m\u001b[39m'\u001b[39m]\n\u001b[0;32m      8\u001b[0m         i \u001b[39m+\u001b[39m\u001b[39m=\u001b[39m \u001b[39m1\u001b[39m\n",
      "\u001b[1;31mTypeError\u001b[0m: string indices must be integers"
     ]
    }
   ],
   "source": [
    "i = 1\n",
    "\n",
    "for lista in df['Ratings']:\n",
    "    for cont in lista:\n",
    "        #print(cont['Source'])\n",
    "        df['Rating_source_'+str(i)] = cont['Source']\n",
    "        df['Rating_value_'+str(i)] = cont['Value']\n",
    "        i += 1\n",
    "        #break\n",
    "\n",
    "       \n",
    "    "
   ]
  },
  {
   "cell_type": "code",
   "execution_count": 46,
   "id": "68796aeb",
   "metadata": {},
   "outputs": [
    {
     "name": "stdout",
     "output_type": "stream",
     "text": [
      "{'Title': 'Brasil', 'Year': '1981', 'Rated': 'N/A', 'Released': 'N/A', 'Runtime': '20 min', 'Genre': 'Documentary, Short', 'Director': 'RogÃ©rio Sganzerla', 'Writer': 'N/A', 'Actors': 'Ary Barroso, Maria BethÃ¢nia, Dorival Caymmi', 'Plot': 'Great names of MPB assemble to record Brasil: Gil, Caetano, BethÃ¢nia and JoÃ£o Gilberto.', 'Language': 'Portuguese', 'Country': 'Brazil', 'Awards': 'N/A', 'Poster': 'https://m.media-amazon.com/images/M/MV5BODc5NDQwMjktYzk1MC00YjY2LWJlMGUtNWY4NDY5MDg5ODI4XkEyXkFqcGdeQXVyNDY2NDMxNDY@._V1_SX300.jpg', 'Ratings': {'Source': 'Internet Movie Database', 'Value': '6.6/10'}, 'Metascore': 'N/A', 'imdbRating': '6.6', 'imdbVotes': '68', 'imdbID': 'tt0886462', 'Type': 'movie', 'DVD': 'N/A', 'BoxOffice': 'N/A', 'Production': 'N/A', 'Website': 'N/A', 'Response': 'True'}\n"
     ]
    }
   ],
   "source": [
    "print(df) "
   ]
  }
 ],
 "metadata": {
  "kernelspec": {
   "display_name": "Python 3 (ipykernel)",
   "language": "python",
   "name": "python3"
  },
  "language_info": {
   "codemirror_mode": {
    "name": "ipython",
    "version": 3
   },
   "file_extension": ".py",
   "mimetype": "text/x-python",
   "name": "python",
   "nbconvert_exporter": "python",
   "pygments_lexer": "ipython3",
   "version": "3.9.7"
  }
 },
 "nbformat": 4,
 "nbformat_minor": 5
}
